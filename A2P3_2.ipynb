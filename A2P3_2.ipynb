{
  "nbformat": 4,
  "nbformat_minor": 0,
  "metadata": {
    "colab": {
      "provenance": [],
      "collapsed_sections": []
    },
    "kernelspec": {
      "name": "python3",
      "display_name": "Python 3"
    },
    "language_info": {
      "name": "python"
    }
  },
  "cells": [
    {
      "cell_type": "markdown",
      "source": [
        "To run this file we just need to upload data.tsv file into a folder \"data\" and execute the code blocks in order.\n",
        "\n"
      ],
      "metadata": {
        "id": "1AAYYIsqdsOc"
      }
    },
    {
      "cell_type": "code",
      "execution_count": 22,
      "metadata": {
        "id": "ihdbSN9pqGBj"
      },
      "outputs": [],
      "source": [
        "import torch\n",
        "import torchtext\n",
        "from torchtext import data\n",
        "import torch.optim as optim\n",
        "import argparse\n",
        "import os\n",
        "import pandas as pd"
      ]
    },
    {
      "cell_type": "code",
      "source": [
        "import csv\n",
        "count_positive = 0\n",
        "count_negative = 0\n",
        "tsv_file = open(\"/content/data/data.tsv\")\n",
        "read_tsv = csv. reader(tsv_file, delimiter=\"\\t\")\n",
        "for row in read_tsv:\n",
        "  if row[1] == '1':\n",
        "    count_positive = count_positive+1\n",
        "  elif row[1] == '0':\n",
        "    count_negative = count_negative+1\n",
        "\n",
        "print(\"Number of Positive examples:\",count_positive)\n",
        "print(\"Number of Negative examples:\",count_negative)\n",
        "tsv_file. close()"
      ],
      "metadata": {
        "colab": {
          "base_uri": "https://localhost:8080/"
        },
        "id": "d4QlB3XBqYtI",
        "outputId": "aad4bc34-8d50-40d5-f3d5-7ab609252d60"
      },
      "execution_count": 23,
      "outputs": [
        {
          "output_type": "stream",
          "name": "stdout",
          "text": [
            "Number of Positive examples: 5000\n",
            "Number of Negative examples: 5000\n"
          ]
        }
      ]
    },
    {
      "cell_type": "code",
      "source": [
        "import pandas as pd\n",
        "from sklearn.model_selection import cross_validate, train_test_split\n",
        "\n",
        "df = pd.read_table('/content/data/data.tsv')\n",
        "\n",
        "from sklearn.model_selection import train_test_split\n",
        "\n",
        "print(df)\n",
        "\n",
        "X = df.drop(columns = ['label']).copy()\n",
        "y = df['label']\n",
        "\n",
        "X_train, X_test, y_train, y_test = train_test_split(X, y, test_size=0.2, random_state=1)\n",
        "\n",
        "X_train, X_val, y_train, y_val = train_test_split(X_train, y_train, test_size=0.20, random_state=1)\n",
        "\n",
        "print(X_train.shape), print(y_train.shape)\n",
        "print(X_val.shape), print(y_val.shape)\n",
        "print(X_test.shape), print(y_test.shape)\n",
        "\n",
        "print(len(X_train))\n",
        "print(len(X_val))\n",
        "print(len(X_test))\n"
      ],
      "metadata": {
        "colab": {
          "base_uri": "https://localhost:8080/"
        },
        "id": "1uLAfYvHagVG",
        "outputId": "20f1f093-9805-47ed-f3f1-36173bc6b57e"
      },
      "execution_count": 24,
      "outputs": [
        {
          "output_type": "stream",
          "name": "stdout",
          "text": [
            "                                                   text  label\n",
            "0     smart and alert , thirteen conversations about...      1\n",
            "1     color , musical bounce and warm seas lapping o...      1\n",
            "2     it is not a mass-market entertainment but an u...      1\n",
            "3     a light-hearted french film about the spiritua...      1\n",
            "4     my wife is an actress has its moments in looki...      1\n",
            "...                                                 ...    ...\n",
            "9995  in the end , they discover that balance in lif...      0\n",
            "9996  a counterfeit 1000 tomin bank note is passed i...      0\n",
            "9997  enter the beautiful and mysterious secret agen...      0\n",
            "9998  after listening to a missionary from china spe...      0\n",
            "9999  looking for a short cut to fame , glass concoc...      0\n",
            "\n",
            "[10000 rows x 2 columns]\n",
            "(6400, 1)\n",
            "(6400,)\n",
            "(1600, 1)\n",
            "(1600,)\n",
            "(2000, 1)\n",
            "(2000,)\n",
            "6400\n",
            "1600\n",
            "2000\n"
          ]
        }
      ]
    },
    {
      "cell_type": "code",
      "source": [
        "type(X_train)"
      ],
      "metadata": {
        "colab": {
          "base_uri": "https://localhost:8080/"
        },
        "id": "-pSxqdIra5rl",
        "outputId": "811c5bf0-e294-4786-8bcc-b932d2726c33"
      },
      "execution_count": 25,
      "outputs": [
        {
          "output_type": "execute_result",
          "data": {
            "text/plain": [
              "pandas.core.frame.DataFrame"
            ]
          },
          "metadata": {},
          "execution_count": 25
        }
      ]
    },
    {
      "cell_type": "code",
      "source": [
        "df_train = pd.concat([X_train, y_train], axis=1)\n",
        "df_train"
      ],
      "metadata": {
        "colab": {
          "base_uri": "https://localhost:8080/",
          "height": 424
        },
        "id": "s_5TgXF5Zcos",
        "outputId": "f84d8073-9162-42b5-8076-c494a3c2ac22"
      },
      "execution_count": 26,
      "outputs": [
        {
          "output_type": "execute_result",
          "data": {
            "text/plain": [
              "                                                   text  label\n",
              "8979  at the same time , mickey steals money from an...      0\n",
              "1903  two hours of sepia-tinted heavy metal images a...      1\n",
              "8191  amongst these , ruth , a girl of 17 , writes a...      0\n",
              "8276  as an additional inducement , the queen holds ...      0\n",
              "365   directed without the expected flair or imagina...      1\n",
              "...                                                 ...    ...\n",
              "7586  matters are complicated still further when bec...      0\n",
              "8288  because of his shame , bobby undergoes a type ...      0\n",
              "9718  young marrieds lori and tom relocate from chic...      0\n",
              "7562  the story begins with the discovery that otte'...      0\n",
              "7029  it seems like a perfect opportunity for kilo t...      0\n",
              "\n",
              "[6400 rows x 2 columns]"
            ],
            "text/html": [
              "\n",
              "  <div id=\"df-254df32f-61e1-4769-b46c-f12cacbcb743\">\n",
              "    <div class=\"colab-df-container\">\n",
              "      <div>\n",
              "<style scoped>\n",
              "    .dataframe tbody tr th:only-of-type {\n",
              "        vertical-align: middle;\n",
              "    }\n",
              "\n",
              "    .dataframe tbody tr th {\n",
              "        vertical-align: top;\n",
              "    }\n",
              "\n",
              "    .dataframe thead th {\n",
              "        text-align: right;\n",
              "    }\n",
              "</style>\n",
              "<table border=\"1\" class=\"dataframe\">\n",
              "  <thead>\n",
              "    <tr style=\"text-align: right;\">\n",
              "      <th></th>\n",
              "      <th>text</th>\n",
              "      <th>label</th>\n",
              "    </tr>\n",
              "  </thead>\n",
              "  <tbody>\n",
              "    <tr>\n",
              "      <th>8979</th>\n",
              "      <td>at the same time , mickey steals money from an...</td>\n",
              "      <td>0</td>\n",
              "    </tr>\n",
              "    <tr>\n",
              "      <th>1903</th>\n",
              "      <td>two hours of sepia-tinted heavy metal images a...</td>\n",
              "      <td>1</td>\n",
              "    </tr>\n",
              "    <tr>\n",
              "      <th>8191</th>\n",
              "      <td>amongst these , ruth , a girl of 17 , writes a...</td>\n",
              "      <td>0</td>\n",
              "    </tr>\n",
              "    <tr>\n",
              "      <th>8276</th>\n",
              "      <td>as an additional inducement , the queen holds ...</td>\n",
              "      <td>0</td>\n",
              "    </tr>\n",
              "    <tr>\n",
              "      <th>365</th>\n",
              "      <td>directed without the expected flair or imagina...</td>\n",
              "      <td>1</td>\n",
              "    </tr>\n",
              "    <tr>\n",
              "      <th>...</th>\n",
              "      <td>...</td>\n",
              "      <td>...</td>\n",
              "    </tr>\n",
              "    <tr>\n",
              "      <th>7586</th>\n",
              "      <td>matters are complicated still further when bec...</td>\n",
              "      <td>0</td>\n",
              "    </tr>\n",
              "    <tr>\n",
              "      <th>8288</th>\n",
              "      <td>because of his shame , bobby undergoes a type ...</td>\n",
              "      <td>0</td>\n",
              "    </tr>\n",
              "    <tr>\n",
              "      <th>9718</th>\n",
              "      <td>young marrieds lori and tom relocate from chic...</td>\n",
              "      <td>0</td>\n",
              "    </tr>\n",
              "    <tr>\n",
              "      <th>7562</th>\n",
              "      <td>the story begins with the discovery that otte'...</td>\n",
              "      <td>0</td>\n",
              "    </tr>\n",
              "    <tr>\n",
              "      <th>7029</th>\n",
              "      <td>it seems like a perfect opportunity for kilo t...</td>\n",
              "      <td>0</td>\n",
              "    </tr>\n",
              "  </tbody>\n",
              "</table>\n",
              "<p>6400 rows × 2 columns</p>\n",
              "</div>\n",
              "      <button class=\"colab-df-convert\" onclick=\"convertToInteractive('df-254df32f-61e1-4769-b46c-f12cacbcb743')\"\n",
              "              title=\"Convert this dataframe to an interactive table.\"\n",
              "              style=\"display:none;\">\n",
              "        \n",
              "  <svg xmlns=\"http://www.w3.org/2000/svg\" height=\"24px\"viewBox=\"0 0 24 24\"\n",
              "       width=\"24px\">\n",
              "    <path d=\"M0 0h24v24H0V0z\" fill=\"none\"/>\n",
              "    <path d=\"M18.56 5.44l.94 2.06.94-2.06 2.06-.94-2.06-.94-.94-2.06-.94 2.06-2.06.94zm-11 1L8.5 8.5l.94-2.06 2.06-.94-2.06-.94L8.5 2.5l-.94 2.06-2.06.94zm10 10l.94 2.06.94-2.06 2.06-.94-2.06-.94-.94-2.06-.94 2.06-2.06.94z\"/><path d=\"M17.41 7.96l-1.37-1.37c-.4-.4-.92-.59-1.43-.59-.52 0-1.04.2-1.43.59L10.3 9.45l-7.72 7.72c-.78.78-.78 2.05 0 2.83L4 21.41c.39.39.9.59 1.41.59.51 0 1.02-.2 1.41-.59l7.78-7.78 2.81-2.81c.8-.78.8-2.07 0-2.86zM5.41 20L4 18.59l7.72-7.72 1.47 1.35L5.41 20z\"/>\n",
              "  </svg>\n",
              "      </button>\n",
              "      \n",
              "  <style>\n",
              "    .colab-df-container {\n",
              "      display:flex;\n",
              "      flex-wrap:wrap;\n",
              "      gap: 12px;\n",
              "    }\n",
              "\n",
              "    .colab-df-convert {\n",
              "      background-color: #E8F0FE;\n",
              "      border: none;\n",
              "      border-radius: 50%;\n",
              "      cursor: pointer;\n",
              "      display: none;\n",
              "      fill: #1967D2;\n",
              "      height: 32px;\n",
              "      padding: 0 0 0 0;\n",
              "      width: 32px;\n",
              "    }\n",
              "\n",
              "    .colab-df-convert:hover {\n",
              "      background-color: #E2EBFA;\n",
              "      box-shadow: 0px 1px 2px rgba(60, 64, 67, 0.3), 0px 1px 3px 1px rgba(60, 64, 67, 0.15);\n",
              "      fill: #174EA6;\n",
              "    }\n",
              "\n",
              "    [theme=dark] .colab-df-convert {\n",
              "      background-color: #3B4455;\n",
              "      fill: #D2E3FC;\n",
              "    }\n",
              "\n",
              "    [theme=dark] .colab-df-convert:hover {\n",
              "      background-color: #434B5C;\n",
              "      box-shadow: 0px 1px 3px 1px rgba(0, 0, 0, 0.15);\n",
              "      filter: drop-shadow(0px 1px 2px rgba(0, 0, 0, 0.3));\n",
              "      fill: #FFFFFF;\n",
              "    }\n",
              "  </style>\n",
              "\n",
              "      <script>\n",
              "        const buttonEl =\n",
              "          document.querySelector('#df-254df32f-61e1-4769-b46c-f12cacbcb743 button.colab-df-convert');\n",
              "        buttonEl.style.display =\n",
              "          google.colab.kernel.accessAllowed ? 'block' : 'none';\n",
              "\n",
              "        async function convertToInteractive(key) {\n",
              "          const element = document.querySelector('#df-254df32f-61e1-4769-b46c-f12cacbcb743');\n",
              "          const dataTable =\n",
              "            await google.colab.kernel.invokeFunction('convertToInteractive',\n",
              "                                                     [key], {});\n",
              "          if (!dataTable) return;\n",
              "\n",
              "          const docLinkHtml = 'Like what you see? Visit the ' +\n",
              "            '<a target=\"_blank\" href=https://colab.research.google.com/notebooks/data_table.ipynb>data table notebook</a>'\n",
              "            + ' to learn more about interactive tables.';\n",
              "          element.innerHTML = '';\n",
              "          dataTable['output_type'] = 'display_data';\n",
              "          await google.colab.output.renderOutput(dataTable, element);\n",
              "          const docLink = document.createElement('div');\n",
              "          docLink.innerHTML = docLinkHtml;\n",
              "          element.appendChild(docLink);\n",
              "        }\n",
              "      </script>\n",
              "    </div>\n",
              "  </div>\n",
              "  "
            ]
          },
          "metadata": {},
          "execution_count": 26
        }
      ]
    },
    {
      "cell_type": "code",
      "source": [
        "s0 = df_train.label[df.label.eq(0)].sample(25).index\n",
        "s1 = df_train.label[df.label.eq(1)].sample(25).index \n",
        "\n",
        "df_50 = df_train.loc[s0.union(s1)]"
      ],
      "metadata": {
        "id": "CksosJyOUcBo"
      },
      "execution_count": 27,
      "outputs": []
    },
    {
      "cell_type": "code",
      "source": [
        "df_50.to_csv(\"/content/data/overfit.tsv\", sep = \"\\t\")"
      ],
      "metadata": {
        "id": "QY1WSsp_Vxww"
      },
      "execution_count": 28,
      "outputs": []
    },
    {
      "cell_type": "code",
      "source": [
        "df_overfit = pd.read_table('/content/data/overfit.tsv')\n",
        "print(df_overfit)"
      ],
      "metadata": {
        "colab": {
          "base_uri": "https://localhost:8080/"
        },
        "id": "facjkcaieefm",
        "outputId": "5aa07dd5-9e1f-46d3-c846-394926994679"
      },
      "execution_count": 29,
      "outputs": [
        {
          "output_type": "stream",
          "name": "stdout",
          "text": [
            "    Unnamed: 0                                               text  label\n",
            "0          256  much as we might be interested in gratuitous s...      1\n",
            "1          273  there is no substitute for on-screen chemistry...      1\n",
            "2          349  it's simply delightful to watch an actor like ...      1\n",
            "3          860  a comedy-drama of nearly epic proportions root...      1\n",
            "4         1116  hey arnold ! the movie is what happens when yo...      1\n",
            "5         1395  this is as respectful a film as byatt fans cou...      1\n",
            "6         2004  two tedious acts light on great scares and a g...      1\n",
            "7         2150  every single scene conveys a significant and c...      1\n",
            "8         2156  a comedy that swings and jostles to the rhythm...      1\n",
            "9         2295  gooding is the energetic frontman , and it's h...      1\n",
            "10        2798  [shyamalan] turns the goose-pimple genre on it...      1\n",
            "11        3328  chelsea walls is a case of too many chefs fuss...      1\n",
            "12        3523  it's supposed to be a romantic comedy - it suf...      1\n",
            "13        3636  superbly photographed and staged by mendes wit...      1\n",
            "14        3880  nair and writer laura cahill dare to build a m...      1\n",
            "15        3884  'de niro . . . is a veritable source of sincer...      1\n",
            "16        3958  while there are times when the film's reach ex...      1\n",
            "17        3987  written , flatly , by david kendall and direct...      1\n",
            "18        4089  this may be the first cartoon ever to look as ...      1\n",
            "19        4312  it sounds sick and twisted , but the miracle o...      1\n",
            "20        4378  feels like six different movies fighting each ...      1\n",
            "21        4449  not all of the stories work and the ones that ...      1\n",
            "22        4467  the documentary makes no waves and tries to be...      1\n",
            "23        4600  arteta directs one of the best ensemble casts ...      1\n",
            "24        4774  one of the very best movies ever made about th...      1\n",
            "25        5214  and in wicker park ( chicago's answer to green...      0\n",
            "26        5602  regardless , he promises to watch over his lit...      0\n",
            "27        6181  the life story of the late graham chapman , le...      0\n",
            "28        6326  befriended by the ship's charismatic cyborg co...      0\n",
            "29        6580  but for rachel , this love stirs not only unte...      0\n",
            "30        6666  it is in this great maritime empire , where op...      0\n",
            "31        6733  her father is livid over her dating a non-gree...      0\n",
            "32        6854  needless to say , both carlos and mickey are b...      0\n",
            "33        7283  based on brett easton ellis's novel , the stor...      0\n",
            "34        7353  mi yun and kang have difficulty working with e...      0\n",
            "35        7678  jack sparrow , a gentleman rogue of a pirate ,...      0\n",
            "36        8163  her dysfunctional family , consisting only of ...      0\n",
            "37        8437  five office workers are taken hostage by shy c...      0\n",
            "38        8599  your night horrors start to bleed into your da...      0\n",
            "39        8822  what they soon realize , though , is they are ...      0\n",
            "40        9100  originally a 30 minute portion for an antholog...      0\n",
            "41        9104  tim , who had scoffed at nick's idea and passe...      0\n",
            "42        9131  it is a look into one of the major social issu...      0\n",
            "43        9208  paul must try to prove to everyone that this t...      0\n",
            "44        9294  despite their many differences , they form a l...      0\n",
            "45        9411  but as documentary filmmaker , zeus papagianak...      0\n",
            "46        9427  keeping her mind diligently focused on dance p...      0\n",
            "47        9506  complicating matters further is the fact that ...      0\n",
            "48        9799  she's aided by her sister sue ( zhao wei ) , w...      0\n",
            "49        9949  betting xxx can succeed where other convention...      0\n"
          ]
        }
      ]
    },
    {
      "cell_type": "code",
      "source": [
        "def createDatasets(df):\n",
        "    train, test = train_test_split(df[['text', 'label']], test_size=0.2, random_state=0, stratify=df[['label']])\n",
        "\n",
        "    trainFinal, val = train_test_split(train, test_size=0.2, random_state=0, stratify=train['label'])\n",
        "\n",
        "    #writing to train, val and test tsv\n",
        "    trainFinal.to_csv('data/train.tsv', sep=\"\\t\", index=False)\n",
        "    test.to_csv('data/test.tsv', sep=\"\\t\", index=False)\n",
        "    val.to_csv('data/validation.tsv', sep=\"\\t\", index=False)\n",
        "\n",
        "    #creating overfit dataset and writing to tsv\n",
        "    s0 = trainFinal.label[df.label.eq(0)].sample(25).index\n",
        "    s1 = trainFinal.label[df.label.eq(1)].sample(25).index \n",
        "\n",
        "    overfit = trainFinal.loc[s0.union(s1)]\n",
        "    overfit.to_csv('data/overfit.tsv', sep=\"\\t\", index=False)\n",
        "\n",
        "    #checking if number of positive and negative samples are the same\n",
        "    if trainFinal[trainFinal.label == 1].shape[0] == trainFinal[trainFinal.label == 0].shape[0]:\n",
        "        print(\"Number of positive and negative samples in the train set are equal.\")\n",
        "    if test[test.label == 1].shape[0] == test[test.label == 0].shape[0]:\n",
        "        print(\"Number of positive and negative samples in the test set are equal.\")\n",
        "    if val[val.label == 1].shape[0] == val[val.label == 0].shape[0]:\n",
        "        print(\"Number of positive and negative samples in the validation set are equal.\")\n",
        "\n",
        "\n",
        "    #checking if any common rows between train and test datasets\n",
        "    df3  = pd.merge(trainFinal, test, on=\"text\", how='inner', indicator='Exist')\n",
        "    df3  = df3.loc[df3['Exist'] != 'both']\n",
        "    print(\"Printing number of common rows between train and test datasets: \", df3.shape[0])\n",
        "\n",
        "    if (df3.shape[0] == 0):\n",
        "        print(\"Train and test datsets are unique with no common rows\")\n",
        "\n",
        "\n",
        "    #checking if any common rows between train and validation datasets\n",
        "    df3  = pd.merge(trainFinal, val, on=\"text\", how='inner', indicator='Exist')\n",
        "    df3  = df3.loc[df3['Exist'] != 'both']\n",
        "    print(\"Printing number of common rows between train and validation datasets: \", df3.shape[0])\n",
        "\n",
        "    if (df3.shape[0] == 0):\n",
        "        print(\"Train and validation datsets are unique with no common rows\")\n",
        "\n",
        "\n",
        "    #checking if any common rows between test and validation datasets\n",
        "    df3  = pd.merge(test, val, on=\"text\", how='inner', indicator='Exist')\n",
        "    df3  = df3.loc[df3['Exist'] != 'both']\n",
        "    print(\"Printing number of common rows between test and validation datasets: \", df3.shape[0])\n",
        "\n",
        "    if (df3.shape[0] == 0):\n",
        "        print(\"Test and validation datsets are unique with no common rows\")"
      ],
      "metadata": {
        "id": "kTRVgKF5gU0C"
      },
      "execution_count": 30,
      "outputs": []
    },
    {
      "cell_type": "code",
      "source": [
        "df = pd.read_csv(\"data/data.tsv\", sep='\\t')\n",
        "createDatasets(df)"
      ],
      "metadata": {
        "colab": {
          "base_uri": "https://localhost:8080/"
        },
        "id": "YVWhHtBUg20m",
        "outputId": "f500dd12-5ed1-409c-c4d4-36dba225ec38"
      },
      "execution_count": 31,
      "outputs": [
        {
          "output_type": "stream",
          "name": "stdout",
          "text": [
            "Number of positive and negative samples in the train set are equal.\n",
            "Number of positive and negative samples in the test set are equal.\n",
            "Number of positive and negative samples in the validation set are equal.\n",
            "Printing number of common rows between train and test datasets:  0\n",
            "Train and test datsets are unique with no common rows\n",
            "Printing number of common rows between train and validation datasets:  0\n",
            "Train and validation datsets are unique with no common rows\n",
            "Printing number of common rows between test and validation datasets:  0\n",
            "Test and validation datsets are unique with no common rows\n"
          ]
        }
      ]
    }
  ]
}